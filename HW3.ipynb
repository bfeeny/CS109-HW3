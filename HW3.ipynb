{
 "metadata": {
  "name": ""
 },
 "nbformat": 3,
 "nbformat_minor": 0,
 "worksheets": [
  {
   "cells": [
    {
     "cell_type": "markdown",
     "metadata": {},
     "source": [
      "# Homework 3. Bayesian Tomatoes"
     ]
    },
    {
     "cell_type": "markdown",
     "metadata": {},
     "source": [
      "Due Thursday, October 17, 11:59pm"
     ]
    },
    {
     "cell_type": "markdown",
     "metadata": {},
     "source": [
      "<div class=\"banner-container\">\n",
      "<img src=\"http://content7.flixster.com/movie/11/16/81/11168101_det.jpg\" width=180>\n",
      "</div>\n",
      "\n",
      "<div class=\"banner-container\">\n",
      "<img src=\"http://content6.flixster.com/movie/11/15/15/11151508_det.jpg\" width=180>\n",
      "</div>\n",
      "\n",
      "<div class=\"banner-container\">\n",
      "<img src=\"http://content9.flixster.com/movie/11/16/61/11166199_det.jpg\" width=180>\n",
      "</div>\n",
      "\n",
      "<div class=\"clear\"> </div>\n",
      "\n",
      "<style type=\"text/css\">\n",
      ".banner-container {\n",
      "height:350px;\n",
      "margin-left: 30px;\n",
      "float:left;\n",
      "}\n",
      ".clear {\n",
      "clear:both;\n",
      "}\n",
      "</style>"
     ]
    },
    {
     "cell_type": "markdown",
     "metadata": {},
     "source": [
      "In this assignment, you'll be analyzing movie reviews from [Rotten Tomatoes](http://www.rottentomatoes.com). This assignment will cover:\n",
      "\n",
      " * Working with web APIs\n",
      " * Making and interpreting predictions from a Bayesian perspective\n",
      " * Using the Naive Bayes algorithm to predict whether a movie review is positive or negative\n",
      " * Using cross validation to optimize models\n",
      "\n",
      "Useful libraries for this assignment\n",
      "\n",
      "* [numpy](http://docs.scipy.org/doc/numpy-dev/user/index.html), for arrays\n",
      "* [scikit-learn](http://scikit-learn.org/stable/), for machine learning\n",
      "* [json](http://docs.python.org/2/library/json.html) for parsing JSON data from the web.\n",
      "* [pandas](http://pandas.pydata.org/), for data frames\n",
      "* [matplotlib](http://matplotlib.org/), for plotting\n",
      "* [requests](http://docs.python-requests.org/en/latest/), for downloading web content"
     ]
    },
    {
     "cell_type": "code",
     "collapsed": false,
     "input": [
      "%matplotlib inline\n",
      "\n",
      "import json\n",
      "\n",
      "import requests\n",
      "import pandas as pd\n",
      "import numpy as np\n",
      "import matplotlib.pyplot as plt\n",
      "\n",
      "pd.set_option('display.width', 500)\n",
      "pd.set_option('display.max_columns', 30)\n",
      "\n",
      "# set some nicer defaults for matplotlib\n",
      "from matplotlib import rcParams\n",
      "\n",
      "#these colors come from colorbrewer2.org. Each is an RGB triplet\n",
      "dark2_colors = [(0.10588235294117647, 0.6196078431372549, 0.4666666666666667),\n",
      "                (0.8509803921568627, 0.37254901960784315, 0.00784313725490196),\n",
      "                (0.4588235294117647, 0.4392156862745098, 0.7019607843137254),\n",
      "                (0.9058823529411765, 0.1607843137254902, 0.5411764705882353),\n",
      "                (0.4, 0.6509803921568628, 0.11764705882352941),\n",
      "                (0.9019607843137255, 0.6705882352941176, 0.00784313725490196),\n",
      "                (0.6509803921568628, 0.4627450980392157, 0.11372549019607843),\n",
      "                (0.4, 0.4, 0.4)]\n",
      "\n",
      "rcParams['figure.figsize'] = (10, 6)\n",
      "rcParams['figure.dpi'] = 150\n",
      "rcParams['axes.color_cycle'] = dark2_colors\n",
      "rcParams['lines.linewidth'] = 2\n",
      "rcParams['axes.grid'] = False\n",
      "rcParams['axes.facecolor'] = 'white'\n",
      "rcParams['font.size'] = 14\n",
      "rcParams['patch.edgecolor'] = 'none'\n",
      "\n",
      "\n",
      "def remove_border(axes=None, top=False, right=False, left=True, bottom=True):\n",
      "    \"\"\"\n",
      "    Minimize chartjunk by stripping out unnecessary plot borders and axis ticks\n",
      "    \n",
      "    The top/right/left/bottom keywords toggle whether the corresponding plot border is drawn\n",
      "    \"\"\"\n",
      "    ax = axes or plt.gca()\n",
      "    ax.spines['top'].set_visible(top)\n",
      "    ax.spines['right'].set_visible(right)\n",
      "    ax.spines['left'].set_visible(left)\n",
      "    ax.spines['bottom'].set_visible(bottom)\n",
      "    \n",
      "    #turn off all ticks\n",
      "    ax.yaxis.set_ticks_position('none')\n",
      "    ax.xaxis.set_ticks_position('none')\n",
      "    \n",
      "    #now re-enable visibles\n",
      "    if top:\n",
      "        ax.xaxis.tick_top()\n",
      "    if bottom:\n",
      "        ax.xaxis.tick_bottom()\n",
      "    if left:\n",
      "        ax.yaxis.tick_left()\n",
      "    if right:\n",
      "        ax.yaxis.tick_right()"
     ],
     "language": "python",
     "metadata": {},
     "outputs": [],
     "prompt_number": 72
    },
    {
     "cell_type": "markdown",
     "metadata": {},
     "source": [
      "## Introduction\n",
      "\n",
      "Rotten Tomatoes gathers movie reviews from critics. An [entry on the website](http://www.rottentomatoes.com/m/primer/reviews/?type=top_critics) typically consists of a short quote, a link to the full review, and a Fresh/Rotten classification which summarizes whether the critic liked/disliked the movie.\n",
      "\n",
      "\n",
      "When critics give quantitative ratings (say 3/4 stars, Thumbs up, etc.), determining the Fresh/Rotten classification is easy. However, publications like the New York Times don't assign numerical ratings to movies, and thus the Fresh/Rotten classification must be inferred from the text of the review itself.\n",
      "\n",
      "This basic task of categorizing text has many applications. All of the following questions boil down to text classification:\n",
      "\n",
      " * Is a movie review positive or negative?\n",
      " * Is an email spam, or not?\n",
      " * Is a comment on a blog discussion board appropriate, or not?\n",
      " * Is a tweet about your company positive, or not?\n",
      " \n",
      "\n",
      "Language is incredibly nuanced, and there is an entire field of computer science dedicated to the topic (Natural Language Processing). Nevertheless, we can construct basic language models using fairly straightforward techniques. \n",
      "\n",
      "## The Data\n",
      "\n",
      "You will be starting with a database of Movies, derived from the MovieLens dataset. This dataset includes information for about 10,000 movies, including the IMDB id for each movie. \n",
      "\n",
      "Your first task is to download Rotten Tomatoes reviews from 3000 of these movies, using the Rotten Tomatoes API (Application Programming Interface)."
     ]
    },
    {
     "cell_type": "markdown",
     "metadata": {},
     "source": [
      "### Working with Web APIs\n",
      "Web APIs are a more convenient way for programs to interact with websites. Rotten Tomatoes has a nice API that gives access to its data in JSON format.\n",
      "\n",
      "To use this, you will first need to [register for an API key](http://developer.rottentomatoes.com/member/register). For \"application URL\", you can use anything -- it doesn't matter.\n",
      "\n",
      "After you have a key, the [documentation page](http://developer.rottentomatoes.com/iodocs) shows the various data you can fetch from Rotten Tomatoes -- each type of data lives at a different web address. The basic pattern for fetching this data with Python is as follows (compare this to the `Movie Reviews` tab on the documentation page):"
     ]
    },
    {
     "cell_type": "code",
     "collapsed": false,
     "input": [
      "api_key = '3p6phtb9v58hdawzj9c5ntg3'\n",
      "movie_id = '770672122'  # toy story 3\n",
      "url = 'http://api.rottentomatoes.com/api/public/v1.0/movies/%s/reviews.json' % movie_id\n",
      "\n",
      "#these are \"get parameters\"\n",
      "options = {'review_type': 'top_critic', 'page_limit': 20, 'page': 1, 'apikey': api_key}\n",
      "data = requests.get(url, params=options).text\n",
      "data = json.loads(data)  # load a json string into a collection of lists and dicts\n",
      "print json.dumps(data['reviews'][0], indent=2)  # dump an object into a json string"
     ],
     "language": "python",
     "metadata": {},
     "outputs": [
      {
       "output_type": "stream",
       "stream": "stdout",
       "text": [
        "{\n",
        "  \"publication\": \"Village Voice\", \n",
        "  \"links\": {\n",
        "    \"review\": \"http://www.villagevoice.com/2010-06-15/film/toys-are-us-in-toy-story-3/full/\"\n",
        "  }, \n",
        "  \"quote\": \"When teenaged Andy plops down on the grass to share his old toys with a shy little girl, the film spikes with sadness and layered pleasure -- a concise, deeply wise expression of the ephemeral that feels real and yet utterly transporting.\", \n",
        "  \"freshness\": \"fresh\", \n",
        "  \"critic\": \"Eric Hynes\", \n",
        "  \"date\": \"2013-08-04\"\n",
        "}\n"
       ]
      }
     ],
     "prompt_number": 73
    },
    {
     "cell_type": "markdown",
     "metadata": {},
     "source": [
      "## Part 1: Get the data\n",
      "Here's a chunk of the MovieLens Dataset:"
     ]
    },
    {
     "cell_type": "code",
     "collapsed": false,
     "input": [
      "from io import StringIO  \n",
      "movie_txt = requests.get('https://raw.github.com/cs109/cs109_data/master/movies.dat').text\n",
      "movie_file = StringIO(movie_txt) # treat a string like a file\n",
      "movies = pd.read_csv(movie_file, delimiter='\\t')\n",
      "\n",
      "#print the first row\n",
      "movies[['id', 'title', 'imdbID', 'year']].irow(0)"
     ],
     "language": "python",
     "metadata": {},
     "outputs": [
      {
       "metadata": {},
       "output_type": "pyout",
       "prompt_number": 74,
       "text": [
        "id                1\n",
        "title     Toy story\n",
        "imdbID       114709\n",
        "year           1995\n",
        "Name: 0, dtype: object"
       ]
      }
     ],
     "prompt_number": 74
    },
    {
     "cell_type": "markdown",
     "metadata": {},
     "source": [
      "#### P1.1\n",
      "\n",
      "We'd like you to write a function that looks up the first 20 Top Critic Rotten Tomatoes reviews for a movie in the `movies` dataframe. This involves two steps:\n",
      "\n",
      "1. Use the `Movie Alias` API to look up the Rotten Tomatoes movie id from the IMDB id\n",
      "1. Use the `Movie Reviews` API to fetch the first 20 top-critic reviews for this movie\n",
      "\n",
      "Not all movies have Rotten Tomatoes IDs. In these cases, your function should return `None`. The detailed spec is below. We are giving you some freedom with how you implement this, but you'll probably want to break this task up into several small functions.\n",
      "\n",
      "**Hint**\n",
      "In some situations, the leading 0s in front of IMDB ids are important. IMDB ids have 7 digits"
     ]
    },
    {
     "cell_type": "code",
     "collapsed": true,
     "input": [
      "\"\"\"\n",
      "Function\n",
      "--------\n",
      "rtid_title_from_imdb(imdb)\n",
      "\n",
      "Use the Rotten Tomatoes web API to fetch a rtid and title from a movies imdb ID\n",
      "\n",
      "Parameters\n",
      "----------\n",
      "imdb : String \n",
      "  The movies imdb id\n",
      "  \n",
      "Returns\n",
      "-------\n",
      "rtid   : Rotten Tomatoes ID for the movie or None if invalid\n",
      "title  : Title for the movie or None if invalid\n",
      "\n",
      "\"\"\"\n",
      "def rtid_title_from_imdb(imdb):\n",
      "    url = 'http://api.rottentomatoes.com/api/public/v1.0/movie_alias.json' # Movies Alias API\n",
      "    options = {'id': imdb, 'type': 'imdb', 'page_limit': 20, 'page': 1, 'apikey': api_key}\n",
      "    data = requests.get(url, params=options).text\n",
      "    data = json.loads(data)  # load a json string into a collection of lists and dicts\n",
      "    rtid = data.get('id',None) \n",
      "    title = data.get('title',None)\n",
      "    return rtid,title\n",
      "\n",
      "# rtid = rtid_from_imdb(\"114709\")\n",
      "\n",
      "\"\"\"\n",
      "Function\n",
      "--------\n",
      "review_from_rtid(rtid)\n",
      "\n",
      "Use the Rotten Tomatoes web API to fetch a review for a given rtid\n",
      "Parameters\n",
      "----------\n",
      "rtid   : Rotten Tomatoes ID for the movie or None if invalid\n",
      "  \n",
      "Returns\n",
      "-------\n",
      "data   : Data Frame of movie reviews\n",
      "\"\"\"\n",
      "def review_from_rtid(rtid):\n",
      "    url = 'http://api.rottentomatoes.com/api/public/v1.0/movies/%s/reviews.json' % rtid\n",
      "\n",
      "    #these are \"get parameters\"\n",
      "    options = {'review_type': 'top_critic', 'page_limit': 20, 'page': 1, 'apikey': api_key}\n",
      "    data = requests.get(url, params=options).text\n",
      "    data = json.loads(data)  # load a json string into a collection of lists and dicts\n",
      "    try:\n",
      "        return data['reviews']\n",
      "    except KeyError:\n",
      "        return None\n",
      "    \n",
      "\n",
      "\"\"\"\n",
      "Function\n",
      "--------\n",
      "fetch_reviews(movies, row)\n",
      "\n",
      "Use the Rotten Tomatoes web API to fetch reviews for a particular movie\n",
      "\n",
      "Parameters\n",
      "----------\n",
      "movies : DataFrame \n",
      "  The movies data above\n",
      "row : int\n",
      "  The row of the movies DataFrame to use\n",
      "  \n",
      "Returns\n",
      "-------\n",
      "If you can match the IMDB id to a Rotten Tomatoes ID:\n",
      "  A DataFrame, containing the first 20 Top Critic reviews \n",
      "  for the movie. If a movie has less than 20 total reviews, return them all.\n",
      "  This should have the following columns:\n",
      "    critic : Name of the critic\n",
      "    fresh  : 'fresh' or 'rotten'\n",
      "    imdb   : IMDB id for the movie\n",
      "    publication: Publication that the critic writes for\n",
      "    quote  : string containing the movie review quote\n",
      "    review_data: Date of review\n",
      "    rtid   : Rotten Tomatoes ID for the movie\n",
      "    title  : Name of the movie\n",
      "    \n",
      "If you cannot match the IMDB id to a Rotten Tomatoes ID, return None\n",
      "\n",
      "Examples\n",
      "--------\n",
      ">>> reviews = fetch_reviews(movies, 0)\n",
      ">>> print len(reviews)\n",
      "20\n",
      ">>> print reviews.irow(1)\n",
      "critic                                               Derek Adams\n",
      "fresh                                                      fresh\n",
      "imdb                                                      114709\n",
      "publication                                             Time Out\n",
      "quote          So ingenious in concept, design and execution ...\n",
      "review_date                                           2009-10-04\n",
      "rtid                                                        9559\n",
      "title                                                  Toy story\n",
      "Name: 1, dtype: object\n",
      "\"\"\"\n",
      "#your code here\n",
      "def fetch_reviews(movies, row):\n",
      "    # Get imdb id from row, in case someone gives us an invalid row handle it\n",
      "    try:\n",
      "        imdb = repr(movies.at[row,'imdbID']).zfill(7)\n",
      "    except KeyError:\n",
      "        return None\n",
      "    # get rtid from imdb\n",
      "    # imdb = imdb.zfill(7) # imdb id's need to be 7 characters   \n",
      "    rtid,title = rtid_title_from_imdb(imdb)\n",
      "    data = review_from_rtid(rtid)\n",
      "    # If we get missing data back, exit\n",
      "    if (data is None) or (len(data) == 0): return None\n",
      "    # add title, imdb and rtid to our dicts\n",
      "    [x.update({'title':title,'imdb':imdb,'rtid':rtid}) for x in data]\n",
      "    reviews = pd.DataFrame(data, columns=['critic','freshness','imdb','publication','quote','date','rtid','title'])\n",
      "    # make columns match function doc\n",
      "    reviews.columns=['critic','fresh','imdb','publication','quote','review_date','rtid','title']\n",
      "    return reviews\n",
      "\n",
      "# good\n",
      "## foo = fetch_reviews(movies, 2)\n",
      "# no rtid\n",
      "## foo = fetch_reviews(movies, 201032)\n",
      "# bad rtid (Twelve Monkeys)\n",
      "## foo = fetch_reviews(movies, 31)"
     ],
     "language": "python",
     "metadata": {},
     "outputs": [],
     "prompt_number": 75
    },
    {
     "cell_type": "markdown",
     "metadata": {},
     "source": [
      "#### P1.2\n",
      "\n",
      "Use the function you wrote to retrieve reviews for the first 3,000 movies in the movies dataframe.\n",
      "\n",
      "##### Hints\n",
      "* Rotten Tomatoes limits you to **10,000 API requests a day**. Be careful about this limit! Test your code on smaller inputs before scaling. You are responsible if you hit the limit the day the assignment is due :)\n",
      "* This will take a while to download. If you don't want to re-run this function every time you restart the notebook, you can save and re-load this data as a CSV file. However, please don't submit this file"
     ]
    },
    {
     "cell_type": "code",
     "collapsed": false,
     "input": [
      "\"\"\"\n",
      "Function\n",
      "--------\n",
      "build_table\n",
      "\n",
      "Parameters\n",
      "----------\n",
      "movies : DataFrame\n",
      "  The movies data above\n",
      "rows : int\n",
      "  The number of rows to extract reviews for\n",
      "  \n",
      "Returns\n",
      "--------\n",
      "A dataframe\n",
      "  The data obtained by repeatedly calling `fetch_reviews` on the first `rows`\n",
      "  of `movies`, discarding the `None`s,\n",
      "  and concatenating the results into a single DataFrame\n",
      "\"\"\"\n",
      "#your code here\n",
      "def build_table(movies,rows):\n",
      "    review_table = pd.DataFrame()\n",
      "    for row in range(rows):\n",
      "        if row % 100 == 0: print \"Processing row %s\" % row\n",
      "        new_data = fetch_reviews(movies,row)\n",
      "        if new_data is not None:\n",
      "            review_table = review_table.append(new_data,ignore_index=True)\n",
      "                   \n",
      "    return review_table\n",
      "        \n",
      "# review_table = build_table(movies,3000)\n"
     ],
     "language": "python",
     "metadata": {},
     "outputs": [],
     "prompt_number": 76
    },
    {
     "cell_type": "code",
     "collapsed": false,
     "input": [
      "#you can toggle which lines are commented, if you\n",
      "#want to re-load your results to avoid repeatedly calling this function\n",
      "\n",
      "# critics = build_table(movies, 3000)\n",
      "# critics.to_csv('critics.csv', index=False)\n",
      "critics = pd.read_csv('critics.csv')\n",
      " \n",
      "# for this assignment, let's drop rows with missing data\n",
      "critics = critics[~critics.quote.isnull()]\n",
      "critics = critics[critics.fresh != 'none']\n",
      "critics = critics[critics.quote.str.len() > 0]\n",
      "\n",
      "# reset indexes so they align with our vectorizer\n",
      "critics = critics.reset_index(drop=True)"
     ],
     "language": "python",
     "metadata": {},
     "outputs": [],
     "prompt_number": 77
    },
    {
     "cell_type": "markdown",
     "metadata": {},
     "source": [
      "A quick sanity check that everything looks ok at this point"
     ]
    },
    {
     "cell_type": "code",
     "collapsed": false,
     "input": [
      "assert set(critics.columns) == set('critic fresh imdb publication '\n",
      "                                   'quote review_date rtid title'.split())\n",
      "assert len(critics) > 10000"
     ],
     "language": "python",
     "metadata": {},
     "outputs": [],
     "prompt_number": 78
    },
    {
     "cell_type": "markdown",
     "metadata": {},
     "source": [
      "## Part 2: Explore\n",
      "\n",
      "Before delving into analysis, get a sense of what these data look like. Answer the following questions. Include your code!"
     ]
    },
    {
     "cell_type": "markdown",
     "metadata": {},
     "source": [
      "**2.1** How many reviews, critics, and movies are in this dataset?\n"
     ]
    },
    {
     "cell_type": "code",
     "collapsed": false,
     "input": [
      "#your code here\n",
      "print \"There are %d reviews\"  % len(critics)\n",
      "print \"There are %d critics\" % critics.critic.nunique()\n",
      "print \"There are %d movies\" % critics.rtid.nunique()"
     ],
     "language": "python",
     "metadata": {},
     "outputs": [
      {
       "output_type": "stream",
       "stream": "stdout",
       "text": [
        "There are 15535 reviews\n",
        "There are 619 critics\n",
        "There are 1921 movies\n"
       ]
      }
     ],
     "prompt_number": 79
    },
    {
     "cell_type": "markdown",
     "metadata": {},
     "source": [
      "**2.2** What does the distribution of number of reviews per reviewer look like? Make a histogram"
     ]
    },
    {
     "cell_type": "code",
     "collapsed": false,
     "input": [
      "#Your code here\n",
      "# The distribution looks very skewed.  Most reviewers do few reviews, as you increase the number of reviews\n",
      "# there are less reviewers.  Only a few do  > 250 reviews.\n",
      "\n",
      "# pd.describe_option('display')\n",
      "pd.set_option('display.max_rows', 30000)\n",
      "pd.set_option('display.height', 30000)\n",
      "pd.set_option('display.width', 2000)\n",
      "pd.set_option('display.max_columns', 30)\n",
      "\n",
      "fig = plt.figure()\n",
      "\n",
      "# I experimented multiple ways of scaling the data.  In the end I settled on \n",
      "# a log y-scale but leaving the data itself not logged.  I like it best.\n",
      "\n",
      "# Histogram doesn't look so great in linear y-scale\n",
      "# ax1 = fig.add_subplot(221)\n",
      "# ax1.hist(critics.groupby([\"critic\"])['critic'].count(), bins=50)\n",
      "# ax1.set_title(\"linear\")\n",
      "\n",
      "# Log Y-scale \n",
      "# ax2 = fig.add_subplot(221)\n",
      "ax2 = fig.add_subplot(111) \n",
      "ax2.hist(critics.groupby([\"critic\"])['critic'].count(), bins=50, log=True)\n",
      "# ax2.set_title(\"log Y scale\")\n",
      "ax2.set_xlabel(\"Number of Reviews\")\n",
      "ax2.set_ylabel('N (logged)')\n",
      "remove_border()\n",
      "\n",
      "\n",
      "# Log Data but linear scale\n",
      "# ax3 = fig.add_subplot(223)\n",
      "# ax3.hist(np.log2(critics.groupby([\"critic\"])['critic'].count()), bins=50, log=False)\n",
      "# ax3.set_title(\"log data do not log scale\")\n",
      "\n",
      "# Log data and scale\n",
      "# ax4 = fig.add_subplot(224)\n",
      "# ax4.hist(np.log2(critics.groupby([\"critic\"])['critic'].count()), bins=50, log=True)\n",
      "# ax4.set_title(\"log data and scale\")\n",
      "\n",
      "plt.show()\n"
     ],
     "language": "python",
     "metadata": {},
     "outputs": [
      {
       "metadata": {},
       "output_type": "display_data",
       "png": "[encoded data removed]",
       "text": [
        "<matplotlib.figure.Figure at 0x10be1e050>"
       ]
      }
     ],
     "prompt_number": 80
    },
    {
     "cell_type": "markdown",
     "metadata": {},
     "source": [
      "**2.3** List the 5 critics with the most reviews, along with the publication they write for"
     ]
    },
    {
     "cell_type": "code",
     "collapsed": false,
     "input": [
      "#Your code here\n",
      "\n",
      "# ideas borrowed from http://stackoverflow.com/questions/10373660/converting-a-pandas-groupby-object-to-dataframe\n",
      "# We copy our original critics frame so we can just drop empty critics for this problem 2.3\n",
      "# The critics[~critics.critic.isnull()] is necessary because the values read from CSV are stored as NaN's\n",
      "# The [critics_valid_critic.critic.str.len() > 0] transformation is needed if read from the API as these are \n",
      "# stored as empty strings\n",
      "critics_valid_critic = critics[~critics.critic.isnull()].copy()\n",
      "critics_valid_critic = critics_valid_critic[critics_valid_critic.critic.str.len() > 0]\n",
      "\n",
      "critics_reviews_by_pub = pd.DataFrame({'count' : critics_valid_critic.groupby( [ \"critic\", \"publication\"] ).size()}).sort(['count'],ascending=False).reset_index()\n",
      "critics_reviews_by_pub.head(5)"
     ],
     "language": "python",
     "metadata": {},
     "outputs": [
      {
       "html": [
        "<div style=\"max-height:1000px;max-width:1500px;overflow:auto;\">\n",
        "<table border=\"1\" class=\"dataframe\">\n",
        "  <thead>\n",
        "    <tr style=\"text-align: right;\">\n",
        "      <th></th>\n",
        "      <th>critic</th>\n",
        "      <th>publication</th>\n",
        "      <th>count</th>\n",
        "    </tr>\n",
        "  </thead>\n",
        "  <tbody>\n",
        "    <tr>\n",
        "      <th>0</th>\n",
        "      <td>        Roger Ebert</td>\n",
        "      <td> Chicago Sun-Times</td>\n",
        "      <td> 1073</td>\n",
        "    </tr>\n",
        "    <tr>\n",
        "      <th>1</th>\n",
        "      <td> James Berardinelli</td>\n",
        "      <td>         ReelViews</td>\n",
        "      <td>  803</td>\n",
        "    </tr>\n",
        "    <tr>\n",
        "      <th>2</th>\n",
        "      <td>       Janet Maslin</td>\n",
        "      <td>    New York Times</td>\n",
        "      <td>  517</td>\n",
        "    </tr>\n",
        "    <tr>\n",
        "      <th>3</th>\n",
        "      <td>      Variety Staff</td>\n",
        "      <td>           Variety</td>\n",
        "      <td>  430</td>\n",
        "    </tr>\n",
        "    <tr>\n",
        "      <th>4</th>\n",
        "      <td> Jonathan Rosenbaum</td>\n",
        "      <td>    Chicago Reader</td>\n",
        "      <td>  411</td>\n",
        "    </tr>\n",
        "  </tbody>\n",
        "</table>\n",
        "</div>"
       ],
       "metadata": {},
       "output_type": "pyout",
       "prompt_number": 81,
       "text": [
        "               critic        publication  count\n",
        "0         Roger Ebert  Chicago Sun-Times   1073\n",
        "1  James Berardinelli          ReelViews    803\n",
        "2        Janet Maslin     New York Times    517\n",
        "3       Variety Staff            Variety    430\n",
        "4  Jonathan Rosenbaum     Chicago Reader    411"
       ]
      }
     ],
     "prompt_number": 81
    },
    {
     "cell_type": "markdown",
     "metadata": {},
     "source": [
      "**2.4** Of the critics with > 100 reviews, plot the distribution of average \"freshness\" rating per critic"
     ]
    },
    {
     "cell_type": "code",
     "collapsed": false,
     "input": [
      "#Your code here\n",
      "\n",
      "## group our data by critic\n",
      "grouped_by_critic = critics_valid_critic.groupby(['critic'])\n",
      "\n",
      "## get a list of fresh/rotten counts\n",
      "fresh_counts = grouped_by_critic.fresh.value_counts()\n",
      "\n",
      "## outer join fresh and rotten counts\n",
      "freshness = pd.concat([fresh_counts.ix[:, 'fresh'],fresh_counts.ix[:, 'rotten']],keys=['fresh','rotten'],join='outer',axis=1)\n",
      "\n",
      "## impute missing data so we can calculate our freshness\n",
      "freshness = freshness.fillna(0)\n",
      "\n",
      "## add a new column total so we can use it to sort and calculate on\n",
      "freshness['total'] = freshness['fresh'] + freshness['rotten']\n",
      "\n",
      "## add a freshness column so we can plot it\n",
      "freshness['freshness'] = (freshness['fresh'] / freshness['total']) * 100\n",
      "\n",
      "## Grab top 100\n",
      "freshness = freshness.sort(columns='total', ascending=False)\n",
      "freshness = freshness[0:100]\n",
      "# freshness\n",
      "\n",
      "# Plot our data.  I prefer the density plot over the histogram for this dataset\n",
      "# freshness['freshness'].hist(bins=len(freshness)/10)\n",
      "freshness['freshness'].plot(kind='kde')\n",
      "plt.xlabel(\"Percent Fresh\")\n",
      "plt.xlim(0,100)\n",
      "remove_border()"
     ],
     "language": "python",
     "metadata": {},
     "outputs": [
      {
       "metadata": {},
       "output_type": "display_data",
       "png": "[encoded data removed]",
       "text": [
        "<matplotlib.figure.Figure at 0x101b41510>"
       ]
      }
     ],
     "prompt_number": 82
    },
    {
     "cell_type": "markdown",
     "metadata": {},
     "source": [
      "**2.5**\n",
      "Using the original `movies` dataframe, plot the rotten tomatoes Top Critics Rating as a function of year. Overplot the average for each year, ignoring the score=0 examples (some of these are missing data). Comment on the result -- is there a trend? What do you think it means?"
     ]
    },
    {
     "cell_type": "code",
     "collapsed": false,
     "input": [
      "#Your code here\n",
      "\n",
      "ratings_by_year = movies.copy()\n",
      "# print len(ratings_by_year)\n",
      "\n",
      "# We look at our data for anything strange, and in fact I see \\N's and of course 0's\n",
      "ratings_by_year['rtTopCriticsRating'].value_counts()\n",
      "\n",
      "## We transform \\N and 0 to NaN, and make the values all floats\n",
      "ratings_by_year['rtTopCriticsRating'].replace('\\N', np.nan, inplace=True)\n",
      "ratings_by_year['rtTopCriticsRating'].replace('0', np.nan, inplace=True)\n",
      "ratings_by_year['rtTopCriticsRating'] = ratings_by_year['rtTopCriticsRating'].astype(float)\n",
      "\n",
      "## Drop NaN's\n",
      "ratings_by_year = ratings_by_year.dropna()\n",
      "# print len(ratings_by_year)\n",
      "\n",
      "# Plot scatterplot of Top Critics Ratings\n",
      "plt.scatter(ratings_by_year.year,ratings_by_year.rtTopCriticsRating,alpha=0.1,color='k',label='Top Critics Rating')\n",
      "\n",
      "# Plot line of averages of Top Critics Ratings\n",
      "year_mean = ratings_by_year.groupby('year').rtTopCriticsRating.mean()\n",
      "plt.plot(year_mean.index, year_mean.values, 'ro-',ms=3,lw=1,label='Avg Top Critics Rating')\n",
      "plt.legend(loc='upper left', scatterpoints=1, numpoints=1, frameon=False)\n",
      "plt.xlabel(\"Year\")\n",
      "plt.ylabel(\"Top Critics Rating\")\n",
      "remove_border()"
     ],
     "language": "python",
     "metadata": {},
     "outputs": [
      {
       "metadata": {},
       "output_type": "display_data",
       "png": "[encoded data removed]",
       "text": [
        "<matplotlib.figure.Figure at 0x10bd5d550>"
       ]
      }
     ],
     "prompt_number": 83
    },
    {
     "cell_type": "markdown",
     "metadata": {},
     "source": [
      "*Your Comment Here*\n",
      "There appears to be a trend.  First I will say that the amount of data we have as time goes on increases by alot.  Starting around 1990's we have alot more observations, and so I would say that our precision improves or at the very least the \"quality\" of our insights (becuase of having more data).  There appears to be an obvious downward trend of average reviews.  Perhaps in the beginning you didn't have to do a whole lot to make a \"great\" movie, but each year, the bar may have been raised, people expect more, its harder to find new ideas, to stand out, many possibilities here.  I notice the very tail of the average line drops all the sudden.  I attribute this to nothing more than the lack of observations in that year, its clear you can see only a few datapoints.  Had there been more data, I would think it would follow a similar trend to years prior and not have such a drastic change.  Some of these years have very few observations (in some cases just one!), so this causes the variance between years to be a bit overpronounced in those cases, such as the beginning of our plot.  As we get more data points we can see it settles to a more consistant trend."
     ]
    },
    {
     "cell_type": "markdown",
     "metadata": {},
     "source": [
      "## Part 3: Sentiment Analysis\n",
      "\n",
      "You will now use a [Naive Bayes classifier](https://en.wikipedia.org/wiki/Naive_Bayes_classifier) to build a prediction model for whether a review is fresh or rotten, depending on the text of the review. See Lecture 9 for a discussion of Naive Bayes.\n",
      "\n",
      "Most models work with numerical data, so we need to convert the textual collection of reviews to something numerical. A common strategy for text classification is to represent each review as a \"bag of words\" vector -- a long vector\n",
      "of numbers encoding how many times a particular word appears in a blurb.\n",
      "\n",
      "Scikit-learn has an object called a `CountVectorizer` that turns text into a bag of words. Here's a quick tutorial:"
     ]
    },
    {
     "cell_type": "code",
     "collapsed": false,
     "input": [
      "from sklearn.feature_extraction.text import CountVectorizer\n",
      "\n",
      "text = ['Hop on pop', 'Hop off pop', 'Hop Hop hop']\n",
      "print \"Original text is\\n\", '\\n'.join(text)\n",
      "\n",
      "vectorizer = CountVectorizer(min_df=0)\n",
      "\n",
      "# call `fit` to build the vocabulary\n",
      "vectorizer.fit(text)\n",
      "\n",
      "# call `transform` to convert text to a bag of words\n",
      "x = vectorizer.transform(text)\n",
      "\n",
      "# CountVectorizer uses a sparse array to save memory, but it's easier in this assignment to \n",
      "# convert back to a \"normal\" numpy array\n",
      "x = x.toarray()\n",
      "\n",
      "print\n",
      "print \"Transformed text vector is \\n\", x\n",
      "\n",
      "# `get_feature_names` tracks which word is associated with each column of the transformed x\n",
      "print\n",
      "print \"Words for each feature:\"\n",
      "print vectorizer.get_feature_names()\n",
      "\n",
      "# Notice that the bag of words treatment doesn't preserve information about the *order* of words, \n",
      "# just their frequency"
     ],
     "language": "python",
     "metadata": {},
     "outputs": [
      {
       "output_type": "stream",
       "stream": "stdout",
       "text": [
        "Original text is\n",
        "Hop on pop\n",
        "Hop off pop\n",
        "Hop Hop hop\n",
        "\n"
       ]
      },
      {
       "output_type": "stream",
       "stream": "stdout",
       "text": [
        "Transformed text vector is \n",
        "[[1 0 1 1]\n",
        " [1 1 0 1]\n",
        " [3 0 0 0]]\n",
        "\n",
        "Words for each feature:\n",
        "[u'hop', u'off', u'on', u'pop']\n"
       ]
      }
     ],
     "prompt_number": 84
    },
    {
     "cell_type": "markdown",
     "metadata": {},
     "source": [
      "**3.1**\n",
      "\n",
      "Using the `critics` dataframe, compute a pair of numerical X, Y arrays where:\n",
      "    \n",
      " * X is a `(nreview, nwords)` array. Each row corresponds to a bag-of-words representation for a single review. This will be the *input* to your model.\n",
      " * Y is a `nreview`-element 1/0 array, encoding whether a review is Fresh (1) or Rotten (0). This is the desired *output* from your model.\n"
     ]
    },
    {
     "cell_type": "code",
     "collapsed": false,
     "input": [
      "#hint: Consult the scikit-learn documentation to\n",
      "#      learn about what these classes do do\n",
      "from sklearn.cross_validation import train_test_split\n",
      "from sklearn.naive_bayes import MultinomialNB\n",
      "\n",
      "\"\"\"\n",
      "Function\n",
      "--------\n",
      "make_xy\n",
      "\n",
      "Build a bag-of-words training set for the review data\n",
      "\n",
      "Parameters\n",
      "-----------\n",
      "critics : Pandas DataFrame\n",
      "    The review data from above\n",
      "    \n",
      "vectorizer : CountVectorizer object (optional)\n",
      "    A CountVectorizer object to use. If None,\n",
      "    then create and fit a new CountVectorizer.\n",
      "    Otherwise, re-fit the provided CountVectorizer\n",
      "    using the critics data\n",
      "    \n",
      "Returns\n",
      "-------\n",
      "X : numpy array (dims: nreview, nwords)\n",
      "    Bag-of-words representation for each review.\n",
      "Y : numpy array (dims: nreview)\n",
      "    1/0 array. 1 = fresh review, 0 = rotten review\n",
      "\n",
      "Examples\n",
      "--------\n",
      "X, Y = make_xy(critics)\n",
      "\"\"\"\n",
      "def make_xy(critics, vectorizer=None):\n",
      "    #Your code here\n",
      "\n",
      "    # If no vectorizer was provided we create one\n",
      "    if not vectorizer:\n",
      "        vectorizer = CountVectorizer(min_df=0)\n",
      "\n",
      "    text = critics['quote'].tolist()\n",
      "    \n",
      "    # Map rotten to 0 and fresh to 1\n",
      "    Y = critics['fresh'].copy().values\n",
      "    Y[Y == 'rotten'] = 0\n",
      "    Y[Y == 'fresh'] = 1\n",
      "   \n",
      "    # call `fit` to build the vocabulary\n",
      "    vectorizer.fit(text)\n",
      "    \n",
      "    # call `transform` to convert text to a bag of words\n",
      "    X = vectorizer.transform(text)\n",
      "    \n",
      "    # convert X to CSC\n",
      "    X = X.tocsc()\n",
      "\n",
      "    # convert back to a numpy array\n",
      "    # X = X.toarray()\n",
      "\n",
      "    return X,Y"
     ],
     "language": "python",
     "metadata": {},
     "outputs": [],
     "prompt_number": 85
    },
    {
     "cell_type": "code",
     "collapsed": false,
     "input": [
      "X, Y = make_xy(critics)"
     ],
     "language": "python",
     "metadata": {},
     "outputs": [],
     "prompt_number": 86
    },
    {
     "cell_type": "markdown",
     "metadata": {},
     "source": [
      "\n",
      "**3.2** Next, randomly split the data into two groups: a\n",
      "training set and a validation set. \n",
      "\n",
      "Use the training set to train a `MultinomialNB` classifier,\n",
      "and print the accuracy of this model on the validation set\n",
      "\n",
      "**Hint**\n",
      "You can use [`train_test_split`](http://scikit-learn.org/stable/modules/generated/sklearn.cross_validation.train_test_split.html) to split up the training data"
     ]
    },
    {
     "cell_type": "code",
     "collapsed": false,
     "input": [
      "#Your code here\n",
      "# Split data into 75% Train 25% Test\n",
      "xtrain, xtest, ytrain, ytest = train_test_split(X, Y, random_state=42)\n",
      "\n",
      "clf = MultinomialNB()\n",
      "clf.fit(xtrain, ytrain)\n",
      "# clf.predict(xtest)\n",
      "test_predict = clf.score(xtest,ytest)\n",
      "print \"Accuracy of the model on the validation set is %.04f\"  % test_predict"
     ],
     "language": "python",
     "metadata": {},
     "outputs": [
      {
       "output_type": "stream",
       "stream": "stdout",
       "text": [
        "Accuracy of the model on the validation set is 0.7729\n"
       ]
      }
     ],
     "prompt_number": 87
    },
    {
     "cell_type": "markdown",
     "metadata": {},
     "source": [
      "**3.3:**\n",
      "\n",
      "We say a model is **overfit** if it performs better on the training data than on the test data. Is this model overfit? If so, how much more accurate is the model on the training data compared to the test data?"
     ]
    },
    {
     "cell_type": "code",
     "collapsed": false,
     "input": [
      "# Your code here. Print the accuracy on the test and training dataset\n",
      "# clf.predict(xtrain)\n",
      "train_predict = clf.score(xtrain,ytrain)\n",
      "print \"Accuracy of the model on the training set is %.04f\"  % train_predict\n",
      "print \"Accuracy of the model on the validation set is %.04f\"  % test_predict"
     ],
     "language": "python",
     "metadata": {},
     "outputs": [
      {
       "output_type": "stream",
       "stream": "stdout",
       "text": [
        "Accuracy of the model on the training set is 0.9210\n",
        "Accuracy of the model on the validation set is 0.7729\n"
       ]
      }
     ],
     "prompt_number": 88
    },
    {
     "cell_type": "markdown",
     "metadata": {},
     "source": [
      "*Interpret these numbers in a few sentences here*\n",
      "The model indeed performs better on the training set than the test set, so by that definition it overfits.  I get around 77% on the test set and around 92% on the train set, so it performs about 15% better on the training data.  "
     ]
    },
    {
     "cell_type": "markdown",
     "metadata": {},
     "source": [
      "**3.4: Model Calibration**\n",
      "\n",
      "Bayesian models like the Naive Bayes classifier have the nice property that they compute probabilities of a particular classification -- the `predict_proba` and `predict_log_proba` methods of `MultinomialNB` compute these probabilities. \n",
      "\n",
      "Being the respectable Bayesian that you are, you should always assess whether these probabilities are **calibrated** -- that is, whether a prediction made with a confidence of `x%` is correct approximately `x%` of the time. We care about calibration because it tells us whether we can trust the probabilities computed by a model. If we can trust model probabilities, we can make better decisions using them (for example, we can calculate how much we should bet or invest in a given prediction).\n",
      "\n",
      "Let's make a plot to assess model calibration. Schematically, we want something like this:\n",
      "\n",
      "<img src=\"http://i.imgur.com/ea5B6zr.png\" width=500px>\n",
      "\n",
      "In words, we want to:\n",
      "\n",
      "* Take a collection of examples, and compute the freshness probability for each using `clf.predict_proba`\n",
      "* Gather examples into bins of similar freshness probability (the diagram shows 5 groups -- you should use something closer to 20)\n",
      "* For each bin, count the number of examples in that bin, and compute the fraction of examples in the bin which are fresh\n",
      "* In the upper plot, graph the expected P(Fresh) (x axis) and observed freshness fraction (Y axis). Estimate the uncertainty in observed freshness fraction $F$ via the [equation](http://en.wikipedia.org/wiki/Binomial_proportion_confidence_interval) $\\sigma = \\sqrt{F (1-F) / N}$\n",
      "* Overplot the line y=x. This is the trend we would expect if the model is calibrated\n",
      "* In the lower plot, show the number of examples in each bin\n",
      "\n",
      "**Hints**\n",
      "\n",
      "The output of `clf.predict_proba(X)` is a `(N example, 2)` array. The first column gives the probability $P(Y=0)$ or  $P(Rotten)$, and the second gives $P(Y=1)$ or $P(Fresh)$.\n",
      "\n",
      "The above image is just a guideline -- feel free to explore other options!"
     ]
    },
    {
     "cell_type": "code",
     "collapsed": false,
     "input": [
      "\"\"\"\n",
      "Function\n",
      "--------\n",
      "calibration_plot\n",
      "\n",
      "Builds a plot like the one above, from a classifier and review data\n",
      "\n",
      "Inputs\n",
      "-------\n",
      "clf : Classifier object\n",
      "    A MultinomialNB classifier\n",
      "X : (Nexample, Nfeature) array\n",
      "    The bag-of-words data\n",
      "Y : (Nexample) integer array\n",
      "    1 if a review is Fresh\n",
      "\"\"\"    \n",
      "#your code here\n",
      "def calibration_plot(clf,X,Y):    \n",
      "    # Get predicted fresh probabilities\n",
      "    prob_fresh = clf.predict_proba(X)[:,1]\n",
      "    \n",
      "    # Create a DataFrame so we can group and extract data\n",
      "    calibration = pd.DataFrame(prob_fresh,columns=['prob_fresh'])\n",
      "    calibration['actual_fresh'] = Y\n",
      "    calibration['bin'] = pd.cut(prob_fresh,bins=20)\n",
      "    \n",
      "    # Now groupby the bin, to get some groups stats\n",
      "    calibration_grouped = calibration.groupby('bin')\n",
      "            \n",
      "    # get a list of fresh/rotten counts\n",
      "    fresh_counts = calibration_grouped.actual_fresh.value_counts()\n",
      "\n",
      "    # Build result dataframe\n",
      "    # coerce our numerator to float so we can do percentages \n",
      "    results = pd.DataFrame(fresh_counts.ix[:,1].astype(float),columns=['n_actual_fresh'])\n",
      "    results['n_actual_rotten'] = fresh_counts.ix[:,0]\n",
      "    results['n_actual_total'] = results['n_actual_fresh'] + results['n_actual_rotten']\n",
      "    results['pred_fresh'] = calibration_grouped.mean()\n",
      "    results['pct_actual_fresh'] = (results['n_actual_fresh'] / results['n_actual_total'])\n",
      "    results['uncertainty'] = np.sqrt(results['pct_actual_fresh'] * (1 - results['pct_actual_fresh']) / results['n_actual_total'])\n",
      "    results['error'] = results['pred_fresh'] - results['pct_actual_fresh']\n",
      "    \n",
      "    # Plot using errorbars so we can view confidence intervals, connect them like the sketch shows\n",
      "    fig = plt.figure()\n",
      "    ax1 = fig.add_subplot(211)\n",
      "    ax1.errorbar(results['pred_fresh'],results['pct_actual_fresh'],yerr=results['uncertainty'],fmt='o-',color='k', label=\"result\")\n",
      "    # plot y=x\n",
      "    ax1.plot(xrange(0,2,1), label=\"expectation\")\n",
      "    ax1.set_xlabel(\"Predicted Freshness\")\n",
      "    ax1.set_ylabel(\"Actual Freshness\")\n",
      "    ax1.legend(loc='upper left', scatterpoints=1, numpoints=1, frameon=False)\n",
      "\n",
      "    # create histogram\n",
      "    ax2 = fig.add_subplot(212)\n",
      "    ax2.hist(prob_fresh, bins=np.linspace(0,1,20))\n",
      "    ax2.set_xlabel(\"P(Fresh)\")\n",
      "    ax2.set_ylabel(\"Number\")\n",
      "    \n",
      "    remove_border()  \n",
      "    plt.show()\n",
      "       \n",
      "    return results"
     ],
     "language": "python",
     "metadata": {},
     "outputs": [],
     "prompt_number": 89
    },
    {
     "cell_type": "code",
     "collapsed": false,
     "input": [
      "results = calibration_plot(clf, xtest, ytest)\n",
      "# results"
     ],
     "language": "python",
     "metadata": {},
     "outputs": [
      {
       "metadata": {},
       "output_type": "display_data",
       "png": "[encoded data removed]",
       "text": [
        "<matplotlib.figure.Figure at 0x101b6eb10>"
       ]
      }
     ],
     "prompt_number": 90
    },
    {
     "cell_type": "markdown",
     "metadata": {},
     "source": [
      "**3.5** We might say a model is *over-confident* if the freshness fraction is usually closer to 0.5 than expected (that is, there is more uncertainty than the model predicted). Likewise, a model is *under-confident* if the probabilities are usually further away from 0.5. Is this model generally over- or under-confident? "
     ]
    },
    {
     "cell_type": "markdown",
     "metadata": {},
     "source": [
      "*Your Answer Here*\n",
      "The model is over confident.  The difference between the predicted values and the actual values is is < .2 even in extreme cases and in most cases is even much less than that."
     ]
    },
    {
     "cell_type": "markdown",
     "metadata": {},
     "source": [
      "#### Cross Validation\n",
      "\n",
      "Our classifier has a few free parameters. The two most important are:\n",
      "\n",
      " 1. The `min_df` keyword in `CountVectorizer`, which will ignore words which appear in fewer than `min_df` fraction of reviews. Words that appear only once or twice can lead to overfitting, since words which occur only a few times might correlate very well with Fresh/Rotten reviews by chance in the training dataset.\n",
      " \n",
      " 2. The [`alpha` keyword](http://scikit-learn.org/stable/modules/naive_bayes.html#multinomial-naive-bayes) in the Bayesian classifier is a \"smoothing parameter\" -- increasing the value decreases the sensitivity to any single feature, and tends to pull prediction probabilities closer to 50%. \n",
      "\n",
      "As discussed in lecture and HW2, a common technique for choosing appropriate values for these parameters is **cross-validation**. Let's choose good parameters by maximizing the cross-validated log-likelihood.\n",
      "\n",
      "**3.6** Using `clf.predict_log_proba`, write a function that computes the log-likelihood of a dataset"
     ]
    },
    {
     "cell_type": "code",
     "collapsed": false,
     "input": [
      "\"\"\"\n",
      "Function\n",
      "--------\n",
      "log_likelihood\n",
      "\n",
      "Compute the log likelihood of a dataset according to a bayesian classifier. \n",
      "The Log Likelihood is defined by\n",
      "\n",
      "L = Sum_fresh(logP(fresh)) + Sum_rotten(logP(rotten))\n",
      "\n",
      "Where Sum_fresh indicates a sum over all fresh reviews, \n",
      "and Sum_rotten indicates a sum over rotten reviews\n",
      "    \n",
      "Parameters\n",
      "----------\n",
      "clf : Bayesian classifier\n",
      "x : (nexample, nfeature) array\n",
      "    The input data\n",
      "y : (nexample) integer array\n",
      "    Whether each review is Fresh\n",
      "\"\"\"\n",
      "#your code here\n",
      "def log_likelihood(clf,x,y):\n",
      "    L = clf.predict_log_proba(x)\n",
      "    L =  L[y==0, 0].sum() + L[y==1, 1].sum()\n",
      "    return L\n",
      "\n",
      "# just for the fun of it\n",
      "def accuracy(clf,x,y):\n",
      "    A = clf.predict(x)\n",
      "    A = np.where(A[y==1] == 1, 1, 0).sum() + np.where(A[y==0] == 0, 1, 0).sum()\n",
      "    return A\n",
      "\n",
      "# foo = accuracy(clf,X,Y)\n",
      "\n",
      "# log_likelihood(clf,X,Y)\n",
      "# log_likelihood(clf,xtrain,ytrain)\n",
      "\n",
      "    \n"
     ],
     "language": "python",
     "metadata": {},
     "outputs": [],
     "prompt_number": 91
    },
    {
     "cell_type": "markdown",
     "metadata": {},
     "source": [
      "Here's a function to estimate the cross-validated value of a scoring function, given a classifier and data"
     ]
    },
    {
     "cell_type": "code",
     "collapsed": false,
     "input": [
      "from sklearn.cross_validation import KFold\n",
      "\n",
      "def cv_score(clf, x, y, score_func):\n",
      "    \"\"\"\n",
      "    Uses 5-fold cross validation to estimate a score of a classifier\n",
      "    \n",
      "    Inputs\n",
      "    ------\n",
      "    clf : Classifier object\n",
      "    x : Input feature vector\n",
      "    y : Input class labels\n",
      "    score_func : Function like log_likelihood, that takes (clf, x, y) as input,\n",
      "                 and returns a score\n",
      "                 \n",
      "    Returns\n",
      "    -------\n",
      "    The average score obtained by randomly splitting (x, y) into training and \n",
      "    test sets, fitting on the training set, and evaluating score_func on the test set\n",
      "    \n",
      "    Examples\n",
      "    cv_score(clf, x, y, log_likelihood)\n",
      "    \"\"\"\n",
      "    result = 0\n",
      "    nfold = 5\n",
      "    for train, test in KFold(y.size, nfold): # split data into train/test groups, 5 times\n",
      "        clf.fit(x[train], y[train]) # fit\n",
      "        result += score_func(clf, x[test], y[test]) # evaluate score function on held-out data\n",
      "    return result / nfold # average\n",
      "\n",
      "# cv_score(clf, xtest, ytest, log_likelihood)\n",
      "# as a side note, this function is builtin to the newest version of sklearn. We could just write\n",
      "# sklearn.cross_validation.cross_val_score(clf, x, y, scorer=log_likelihood)."
     ],
     "language": "python",
     "metadata": {},
     "outputs": [],
     "prompt_number": 92
    },
    {
     "cell_type": "markdown",
     "metadata": {},
     "source": [
      "**3.7**\n",
      "\n",
      "Fill in the remaining code in this block, to loop over many values of `alpha` and `min_df` to determine\n",
      "which settings are \"best\" in the sense of maximizing the cross-validated log-likelihood"
     ]
    },
    {
     "cell_type": "code",
     "collapsed": false,
     "input": [
      "#the grid of parameters to search over\n",
      "alphas = [0, .1, 1, 5, 10, 50]\n",
      "min_dfs = [1e-5, 1e-4, 1e-3, 1e-2, 1e-1]\n",
      "\n",
      "#Find the best value for alpha and min_df, and the best classifier\n",
      "best_alpha = None\n",
      "best_min_df = None\n",
      "max_loglike = -np.inf\n",
      "\n",
      "for alpha in alphas:\n",
      "    for min_df in min_dfs:         \n",
      "        vectorizer = CountVectorizer(min_df = min_df)  \n",
      "        #your code here\n",
      "\n",
      "        X, Y = make_xy(critics, vectorizer)\n",
      "        # I could split into test/train here and pass only the xtrain,ytrain into my clf.fit\n",
      "        # Chris Beaumont explained to us the trade-off's of either using the full X or just a subset\n",
      "        # I am using the full X understanding these consequences.  The reality is I ran it both ways\n",
      "        # and the hyperparameters didn't change.  \n",
      "        # xtrain, xtest, ytrain, ytest = train_test_split(X, Y, random_state=42)\n",
      "        clf = MultinomialNB(alpha = alpha)\n",
      "        score = cv_score(clf, X, Y, log_likelihood)\n",
      "        # score = cv_score(clf, X, Y, accuracy)\n",
      "        if score > max_loglike:\n",
      "            max_loglike = score\n",
      "            best_alpha = alpha\n",
      "            best_min_df = min_df\n",
      "            # print \"Better parameters found! alpha: %.04f min_df: %.04f, score: %.04f\" % (alpha,min_df,score)\n",
      "                \n"
     ],
     "language": "python",
     "metadata": {},
     "outputs": [],
     "prompt_number": 93
    },
    {
     "cell_type": "code",
     "collapsed": false,
     "input": [
      "print \"alpha: %f\" % best_alpha\n",
      "print \"min_df: %f\" % best_min_df"
     ],
     "language": "python",
     "metadata": {},
     "outputs": [
      {
       "output_type": "stream",
       "stream": "stdout",
       "text": [
        "alpha: 5.000000\n",
        "min_df: 0.001000\n"
       ]
      }
     ],
     "prompt_number": 94
    },
    {
     "cell_type": "markdown",
     "metadata": {},
     "source": [
      "**3.8** Now that you've determined values for alpha and min_df that optimize the cross-validated log-likelihood, repeat the steps in 3.1, 3.2, and 3.4 to train a final classifier with these parameters, re-evaluate the accuracy, and draw a new calibration plot."
     ]
    },
    {
     "cell_type": "code",
     "collapsed": false,
     "input": [
      "#Your code here\n",
      "vectorizer = CountVectorizer(min_df = best_min_df)\n",
      "X, Y = make_xy(critics,vectorizer)\n",
      "xtrain, xtest, ytrain, ytest = train_test_split(X, Y, random_state=42)\n",
      "clf = MultinomialNB(alpha = best_alpha)\n",
      "clf.fit(xtrain, ytrain)\n",
      "results = calibration_plot(clf, xtest, ytest)\n",
      "\n",
      "train_predict = clf.score(xtrain,ytrain)\n",
      "print \"Accuracy of the model on the training set is %.04f\"  % train_predict\n",
      "test_predict = clf.score(xtest,ytest)\n",
      "print \"Accuracy of the model on the test set is %.04f\"  % test_predict\n",
      "# results"
     ],
     "language": "python",
     "metadata": {},
     "outputs": [
      {
       "metadata": {},
       "output_type": "display_data",
       "png": "[encoded data removed]",
       "text": [
        "<matplotlib.figure.Figure at 0x10f906790>"
       ]
      },
      {
       "output_type": "stream",
       "stream": "stdout",
       "text": [
        "Accuracy of the model on the training set is 0.7860\n",
        "Accuracy of the model on the test set is 0.7366\n"
       ]
      }
     ],
     "prompt_number": 95
    },
    {
     "cell_type": "markdown",
     "metadata": {},
     "source": [
      "**3.9** Discuss the various ways in which Cross-Validation has affected the model. Is the new model more or less accurate? Is overfitting better or worse? Is the model more or less calibrated?"
     ]
    },
    {
     "cell_type": "markdown",
     "metadata": {},
     "source": [
      "*Your Answer Here*\n",
      "The model has improved in my opinion.  The accuracy of the model has actually decreased according to the clf.score().  The difference in accuracies between train/test is much narrower, showing that we are not overfitting as much as we were previously.  Overall the actual centers of the bins track closer to the y=x line.  The precision of the model has improved to, we can see this because the spread of uncertainty for each bin is much tighter.  The model is more calibrated, we can see this by how the prediction line more closely represents y=x.  Since our prediction line is our means of prediction for each bin, by each one drawing closer to y=x means we are closer to predicting x% when accurately x% of the time.  It appears that the addition of better parameters, such as min_df has reduced noise in our model and allowed it to focus on better predictors.  The histogram also reflects a much smoother distribution with more predictions spread out into the bins vs. the prior model which had alot of the predictions at the extremes and very little in the middle.  So in our prior model, much of the \"confidence\" in predicitions was as the extremes of the histogram.  Obviously this prior model was making some pretty firm statements about something being fresh or rotten by viewing the two extremes of the histogram.  In our new model, the confidence is spread out more.  We don't just say something is 0% or 100% most of the time, but rather we give a more reasonable prediction, one that clearly has tighter confidence intervals (based on our new graphs error bars, and also looking at the data......I included Uncertainty in my dataframe and would view it but I have my dataframe output commented).  Each time I run it, it is slightly different, but many times the predictions at the lower end of the model (< .30) are not as accurate.   It normally really tightens up after that.  "
     ]
    },
    {
     "cell_type": "markdown",
     "metadata": {},
     "source": [
      "*To think about/play with, but not to hand in: What would happen if you tried this again using a function besides the log-likelihood -- for example, the classification accuracy?*"
     ]
    },
    {
     "cell_type": "markdown",
     "metadata": {},
     "source": [
      "## Part 4: Interpretation. What words best predict a fresh or rotten review?\n",
      "\n",
      "**4.1**\n",
      "Using your classifier and the `vectorizer.get_feature_names` method, determine which words best predict a positive or negative review. Print the 10 words\n",
      "that best predict a \"fresh\" review, and the 10 words that best predict a \"rotten\" review. For each word, what is the model's probability of freshness if the word appears one time?\n",
      "\n",
      "#### Hints\n",
      "\n",
      "* Try computing the classification probability for a feature vector which consists of all 0s, except for a single 1. What does this probability refer to?\n",
      "\n",
      "* `np.eye` generates a matrix where the ith row is all 0s, except for the ith column which is 1."
     ]
    },
    {
     "cell_type": "code",
     "collapsed": false,
     "input": [
      "# Your code here\n",
      "text = vectorizer.get_feature_names()\n",
      "word_x = np.eye(len(text))\n",
      "word_df = pd.DataFrame(text,columns=['word'])\n",
      "word_df['fresh_prob'] = clf.predict_proba(word_x)[:,1]\n",
      "word_df['rotten_prob'] = clf.predict_proba(word_x)[:,0]\n",
      "\n",
      "print \"Top 10 Fresh Words\"\n",
      "print word_df.sort(column='fresh_prob',ascending=False)[0:10][['word','fresh_prob']]\n",
      "print \"\\nTop 10 Rotten Words\"\n",
      "print word_df.sort(column='rotten_prob',ascending=False)[0:10][['word','fresh_prob']]\n",
      "\n",
      "# I am reporting the Top 10 words of Fresh or Rotten below. I am using the Fresh Prob as directed.  Also I could have easily taken\n",
      "# this output into a .tostring() or other means (.values then back in a \"\\n\".join()) and dropped the indexes on the left.  I\n",
      "# just found it unnecessary so I left them in."
     ],
     "language": "python",
     "metadata": {},
     "outputs": [
      {
       "output_type": "stream",
       "stream": "stdout",
       "text": [
        "Top 10 Fresh Words\n",
        "               word  fresh_prob\n",
        "449         delight    0.911252\n",
        "1320        perfect    0.886740\n",
        "1478     remarkable    0.883697\n",
        "1887       touching    0.882088\n",
        "1115    masterpiece    0.872535\n",
        "625   extraordinary    0.869692\n",
        "1444           rare    0.868716\n",
        "571    entertaining    0.861037\n",
        "1769         superb    0.856930\n",
        "1322    performance    0.855157\n",
        "\n",
        "Top 10 Rotten Words\n",
        "                word  fresh_prob\n",
        "1941   unfortunately    0.108923\n",
        "1009            lame    0.154945\n",
        "1943      uninspired    0.176219\n",
        "487   disappointment    0.182482\n",
        "1364       pointless    0.189208\n",
        "1942         unfunny    0.197708\n",
        "183            bland    0.198619\n",
        "637            fails    0.200933\n",
        "485    disappointing    0.211268\n",
        "728        formulaic    0.229644\n"
       ]
      }
     ],
     "prompt_number": 96
    },
    {
     "cell_type": "markdown",
     "metadata": {},
     "source": [
      "**4.2**\n",
      "\n",
      "One of the best sources for inspiration when trying to improve a model is to look at examples where the model performs poorly. \n",
      "\n",
      "Find 5 fresh and rotten reviews where your model performs particularly poorly. Print each review."
     ]
    },
    {
     "cell_type": "code",
     "collapsed": false,
     "input": [
      "#Your code here\n",
      "# Get predicted fresh probabilities\n",
      "prob_fresh = clf.predict_proba(X)[:,1]\n",
      "    \n",
      "# Create a DataFrame so we can group and extract data\n",
      "calibration = pd.DataFrame(prob_fresh,columns=['prob_fresh'])\n",
      "calibration['actual_fresh'] = Y\n",
      "\n",
      "misclass_fresh  = calibration[calibration['actual_fresh'] == 0].sort(column='prob_fresh', ascending=False).head(5)\n",
      "misclass_rotten = calibration[calibration['actual_fresh'] == 1].sort(column='prob_fresh').head(5)\n",
      "# misclass_fresh\n",
      "# misclass_rotten\n",
      "pd.set_option('display.max_colwidth', 200)\n",
      "print \"5 Misclassified Fresh Reviews (classified as rotten but should probably really be fresh)\"\n",
      "print \"\\n\".join(critics.quote[misclass_fresh.index].values)\n",
      "print \"\\n\"\n",
      "print \"5 Misclassified Rotten Reviews (classified as fresh but should probably really be rotten)\"\n",
      "print \"\\n\".join(critics.quote[misclass_rotten.index].values)\n",
      "pd.set_option('display.max_colwidth', 50)\n"
     ],
     "language": "python",
     "metadata": {},
     "outputs": [
      {
       "output_type": "stream",
       "stream": "stdout",
       "text": [
        "5 Misclassified Fresh Reviews (classified as rotten but should probably really be fresh)\n",
        "It survives today only as an unusually pure example of a typical 50s art-film strategy: the attempt to make the most modern and most popular of art forms acceptable to the intelligentsia by forcing it into an arcane, antique mold.\n",
        "Benefits from a lively lead performance by the miscast Denzel Washington but doesn't come within light years of the book, one of the greatest American autobiographies.\n",
        "Directed with composure, but no great fervour, the film's conspicuously uninterested in American football, and much concerned with testing the limits and the resilience of the American dream.\n",
        "The plot of The Glimmer Man involves not only the Family Man but Our Evil Secret Government, the Russian Mafia and Rich Powerful Politicians -- the three stooges of action cinema in the '90s.\n",
        "It is sometimes funny in a puzzling kind of way, it is generally overwrought in an irritating kind of way, and once in a while it is inappropriately touching.\n",
        "\n",
        "\n",
        "5 Misclassified Rotten Reviews (classified as fresh but should probably really be rotten)\n",
        "Some of the gags don't work, but fewer than in any previous Brooks film that I've seen, and when the jokes are meant to be bad, they are riotously poor. What more can one ask of Mel Brooks?\n",
        "A kind of insane logic seems to connect the sketches, if you look hard enough, but mostly the movie seems to exist in the present and be willing to try anything for a laugh.\n",
        "Though it's a good half hour too long, this overblown 1993 spin-off of the 60s TV show otherwise adds up to a pretty good suspense thriller.\n",
        "The gangland plot is flimsy (bad guy Peter Greene wears too much eyeliner), and the jokes are erratic, but it's a far better showcase for Carrey's comic-from-Uranus talent than Ace Ventura.\n",
        "This tough-to-peg whodunit keeps you going for two hours, despite a few James Bond-ish (or Jane Bond-ish) turns that play less preposterously than you might assume were they to be divulged.\n"
       ]
      }
     ],
     "prompt_number": 99
    },
    {
     "cell_type": "markdown",
     "metadata": {},
     "source": [
      "**4.3** What do you notice about these mis-predictions? Naive Bayes classifiers assume that every word affects the probability independently of other words. In what way is this a bad assumption? In your answer, report your classifier's Freshness probability for the review \"This movie is not remarkable, touching, or superb in any way\".  "
     ]
    },
    {
     "cell_type": "code",
     "collapsed": false,
     "input": [
      "clf.predict_proba(vectorizer.transform([\"This movie is not remarkable, touching, or superb in any way\"]))"
     ],
     "language": "python",
     "metadata": {},
     "outputs": [
      {
       "metadata": {},
       "output_type": "pyout",
       "prompt_number": 98,
       "text": [
        "array([[ 0.01277746,  0.98722254]])"
       ]
      }
     ],
     "prompt_number": 98
    },
    {
     "cell_type": "markdown",
     "metadata": {},
     "source": [
      "*Your answer here*\n",
      "These mis-predictions are failing because they are just looking at the probability of each word, not the combination of words, nor the context of the words.  The words are not independant.  Their position as it relates to other words matters, and in some cases matters alot.  Our language is not some random distribution of indpendant words, and simply assigning a probability to a single word may work better than random but it will breakdown at some point.  Our language is built on a lot of satire, irony, and other complex constructs, which our model is not aware of. Simple things like negation (\"This movie is **not** remarkable, touching, or superb in any way\") are not considered, and the model works against us, actually misclassifing many movies.  The example we are told to predict the probability of \"This movie is not remarkable, touching, or superb in any way\", it reported it as .98 fresh (.02 rotten).  This is because the words used in the quote such as \"remarkable\", \"touching\", \"superb\", have high probabilities of being \"fresh\".  The fact that the reviewer is expressing the complement or negation of this is not interpreted by the model."
     ]
    },
    {
     "cell_type": "markdown",
     "metadata": {},
     "source": [
      "**4.4**\n",
      "If this was your final project, what are 3 things you would try in order to build a more effective review classifier? What other exploratory or explanatory visualizations do you think might be helpful?\n",
      "\n",
      "\n",
      "\n",
      "\n",
      "\n",
      "\n"
     ]
    },
    {
     "cell_type": "markdown",
     "metadata": {},
     "source": [
      "*Your answer here*\n",
      "\n",
      "1. I would search for ways of doing prediction with text other than simple probabilities of words.  Certainly there are better text analysis tools which will allow us to use some context, some sort of distance metric of words to eachother, so that strongly negative words like \"not\" when used near strongly positive words like \"superb\", at least cancel out or something similar.  Perhaps this could be done with a higher level Hidden Markov Model, so that if some really fresh word follows some really rotten word, then we don't take that word as being so fresh.\n",
      "\n",
      "2. I would probably look at some way to apply dampening to the model.  If someone says something like \"superb\" vs. someone saying \"remarkable, superb, and elegantly.....\" that's really biased, because we are looking at these words by themselves, and all the latter has done is boosted his score considerably, by being redundant and dramatic (like reviewers like to do), and its really not giving us any new real information.  So maybe if we have a series of powerful words, we dampen consecutive words or words in proximity so as not to allow some overdramitic critic to throw us off.  Once again, perhaps a Hidden Markov Model, if really fresh words (or really rotten words) are in sequence, then don't just keep adding to the probability, perhaps dampen it a bit.\n",
      "\n",
      "3. I would apply some sort of weight to top critics, or at least some subset of critics which I have deemed appropriate.  All critics are not created equal, and some are probably more biased.  I liken it to that guy on TV who eats all this disgusting food (eyeballs, etc) on the Food Network, and everything he eats he has nothing but great things to say about it.  Its just an entertainment affair, I feel he is biased.  I feel a lot of these reviewers are too.  I would find some way to cross validate my reviewers and those who have done well in the past vs. some method I would have to come up with in validating them (public opinion score, etc), I would give those reviewers more weight.\n",
      "\n",
      "Other visualizations that may be helpful:\n",
      "\n",
      "Looking at reviewers distribution of ratings to understand how biased those reviewers may be.\n",
      "\n",
      "Looking at reviews vs. box office take.  Yes a lot of budget goes into making very appealing theatrical trailers, so that would skew at least the opening week, but in this world of social media, word travels fast, and movies are vetted quite fast.  So if people are paying to see the movie, that must say something.  I realize we are not trying to figure out whether or not the movie was good, we are trying to classify the review.  I would just use this as an indicator that something may be amiss."
     ]
    },
    {
     "cell_type": "markdown",
     "metadata": {},
     "source": [
      "### How to Submit\n",
      "\n",
      "Restart and run your notebook one last time, to make sure the output from each cell is up to date. To submit your homework, create a folder named lastname_firstinitial_hw3 and place your solutions in the folder. Double check that the file is still called HW3.ipynb, and that it contains your code. Please do **not** include the critics.csv data file, if you created one. Compress the folder (please use .zip compression) and submit to the CS109 dropbox in the appropriate folder. If we cannot access your work because these directions are not followed correctly, we will not grade your work!"
     ]
    },
    {
     "cell_type": "markdown",
     "metadata": {},
     "source": [
      "---\n",
      "*css tweaks in this cell*\n",
      "<style>\n",
      "div.text_cell_render {\n",
      "    line-height: 150%;\n",
      "    font-size: 110%;\n",
      "    width: 800px;\n",
      "    margin-left:50px;\n",
      "    margin-right:auto;\n",
      "    }\n",
      "</style>"
     ]
    }
   ],
   "metadata": {}
  }
 ]
}